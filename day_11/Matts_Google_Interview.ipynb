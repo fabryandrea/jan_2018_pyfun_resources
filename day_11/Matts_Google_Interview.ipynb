{
 "cells": [
  {
   "cell_type": "markdown",
   "metadata": {},
   "source": [
    "Re-ID\n",
    "=====\n",
    "There's some unrest in the minion ranks: minions with ID numbers like \"1\", \"42\", and\n",
    "other \"good\" numbers have been lording it over the poor minions who are stuck with more\n",
    "boring IDs. To quell the unrest, Commander Lambda has tasked you with reassigning everyone new, random IDs based on her Completely Foolproof Scheme.\n",
    "She's concatenated the prime numbers in a single long string: \"2357111317192329...\". Now\n",
    "every minion must draw a number from a hat. That number is the starting index in that string of\n",
    "primes, and the minion's new ID number will be the next five digits in the string. So if a minion draws\n",
    "\"3\", their ID number will be \"71113\". \n",
    "Help the Commander assign these IDs by writing a function answer(n) which takes in the\n",
    "starting index n of Lambda's string of all primes, and returns the next five digits in the string. Commander Lambda has a lot of minions, so the value of n will always be between 0 and 10000\n"
   ]
  },
  {
   "cell_type": "code",
   "execution_count": 63,
   "metadata": {},
   "outputs": [
    {
     "name": "stdout",
     "output_type": "stream",
     "text": [
      "10009\n",
      "57111\n",
      "10009\n",
      "62291\n"
     ]
    }
   ],
   "source": [
    "print(get_id(2))\n",
    "print(get_id(8000))"
   ]
  },
  {
   "cell_type": "code",
   "execution_count": 57,
   "metadata": {
    "collapsed": true
   },
   "outputs": [],
   "source": [
    "def get_id(num):\n",
    "    prime_str = make_list_of_primes()\n",
    "#     prime_str = \"\".join([str(i) for i in lst_of_ints])\n",
    "#     print(len(prime_str))\n",
    "    return prime_str[num:num+5]"
   ]
  },
  {
   "cell_type": "code",
   "execution_count": 7,
   "metadata": {},
   "outputs": [
    {
     "data": {
      "text/plain": [
       "'2345'"
      ]
     },
     "execution_count": 7,
     "metadata": {},
     "output_type": "execute_result"
    }
   ],
   "source": [
    "lst = [2,3,4,5]\n",
    "lst = [str(i) for i in lst]\n",
    "\"\".join(lst)\n",
    "# lst.``b\n",
    "# \"\".join()\n",
    "# _lst = str(lst)\n",
    "# _lst"
   ]
  },
  {
   "cell_type": "code",
   "execution_count": 59,
   "metadata": {
    "collapsed": true
   },
   "outputs": [],
   "source": [
    "def make_list_of_primes():\n",
    "#     list_of_primes=[]\n",
    "    prime_str=\"\"\n",
    "    num=2\n",
    "#     for num in range(2,10001):\n",
    "    while len(prime_str)<=10005:\n",
    "        if is_prime(num):\n",
    "#             list_of_primes.append(num)\n",
    "            prime_str+=str(num)\n",
    "        num+=1\n",
    "    return prime_str"
   ]
  },
  {
   "cell_type": "code",
   "execution_count": 32,
   "metadata": {},
   "outputs": [
    {
     "data": {
      "text/plain": [
       "9973"
      ]
     },
     "execution_count": 32,
     "metadata": {},
     "output_type": "execute_result"
    }
   ],
   "source": [
    "make_list_of_primes()[-1]"
   ]
  },
  {
   "cell_type": "code",
   "execution_count": 35,
   "metadata": {
    "collapsed": true
   },
   "outputs": [],
   "source": [
    "def is_prime(i):\n",
    "    if i == 2:\n",
    "        return True\n",
    "    divisor = 2\n",
    "    while divisor < i:\n",
    "        if i % divisor == 0:\n",
    "            return False\n",
    "        divisor+=1\n",
    "    return True"
   ]
  },
  {
   "cell_type": "code",
   "execution_count": 24,
   "metadata": {},
   "outputs": [
    {
     "name": "stdout",
     "output_type": "stream",
     "text": [
      "True\n"
     ]
    }
   ],
   "source": [
    "print(is_prime(2))"
   ]
  },
  {
   "cell_type": "code",
   "execution_count": 28,
   "metadata": {},
   "outputs": [
    {
     "data": {
      "text/plain": [
       "True"
      ]
     },
     "execution_count": 28,
     "metadata": {},
     "output_type": "execute_result"
    }
   ],
   "source": [
    "is_prime(17)"
   ]
  },
  {
   "cell_type": "code",
   "execution_count": null,
   "metadata": {
    "collapsed": true
   },
   "outputs": [],
   "source": [
    "self.name\n",
    "self.age\n",
    "self.color\n",
    "self.height"
   ]
  }
 ],
 "metadata": {
  "kernelspec": {
   "display_name": "Python 3",
   "language": "python",
   "name": "python3"
  },
  "language_info": {
   "codemirror_mode": {
    "name": "ipython",
    "version": 3
   },
   "file_extension": ".py",
   "mimetype": "text/x-python",
   "name": "python",
   "nbconvert_exporter": "python",
   "pygments_lexer": "ipython3",
   "version": "3.6.1"
  }
 },
 "nbformat": 4,
 "nbformat_minor": 2
}
